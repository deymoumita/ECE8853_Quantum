{
 "cells": [
  {
   "cell_type": "code",
   "execution_count": 1,
   "metadata": {
    "collapsed": false
   },
   "outputs": [
    {
     "ename": "ImportError",
     "evalue": "No module named qiskit",
     "output_type": "error",
     "traceback": [
      "\u001b[0;31m---------------------------------------------------------------------------\u001b[0m",
      "\u001b[0;31mImportError\u001b[0m                               Traceback (most recent call last)",
      "\u001b[0;32m<ipython-input-1-554e95407509>\u001b[0m in \u001b[0;36m<module>\u001b[0;34m()\u001b[0m\n\u001b[1;32m      1\u001b[0m \u001b[0;32mimport\u001b[0m \u001b[0mnetworkx\u001b[0m \u001b[0;32mas\u001b[0m \u001b[0mnx\u001b[0m\u001b[0;34m\u001b[0m\u001b[0m\n\u001b[1;32m      2\u001b[0m \u001b[0;34m\u001b[0m\u001b[0m\n\u001b[0;32m----> 3\u001b[0;31m \u001b[0;32mimport\u001b[0m \u001b[0mqiskit\u001b[0m\u001b[0;34m\u001b[0m\u001b[0m\n\u001b[0m\u001b[1;32m      4\u001b[0m \u001b[0;32mfrom\u001b[0m \u001b[0mqiskit\u001b[0m \u001b[0;32mimport\u001b[0m \u001b[0mAer\u001b[0m\u001b[0;34m,\u001b[0m \u001b[0mIBMQ\u001b[0m\u001b[0;34m,\u001b[0m \u001b[0mexecute\u001b[0m\u001b[0;34m\u001b[0m\u001b[0m\n\u001b[1;32m      5\u001b[0m \u001b[0;32mfrom\u001b[0m \u001b[0mqiskit\u001b[0m\u001b[0;34m.\u001b[0m\u001b[0mproviders\u001b[0m\u001b[0;34m.\u001b[0m\u001b[0maer\u001b[0m \u001b[0;32mimport\u001b[0m \u001b[0mnoise\u001b[0m\u001b[0;34m\u001b[0m\u001b[0m\n",
      "\u001b[0;31mImportError\u001b[0m: No module named qiskit"
     ]
    }
   ],
   "source": [
    "import networkx as nx\n",
    "\n",
    "import qiskit\n",
    "from qiskit import Aer, IBMQ, execute\n",
    "from qiskit.providers.aer import noise\n",
    "from qiskit import QuantumCircuit, QuantumRegister, ClassicalRegister\n",
    "from qiskit.tools.visualization import plot_histogram\n",
    "from qiskit.tools.monitor import job_monitor\n",
    "from qiskit import IBMQ, execute\n",
    "from qiskit import QuantumCircuit, QuantumRegister, ClassicalRegister\n",
    "from qiskit.tools.visualization import plot_histogram\n",
    "from qiskit.tools.monitor import job_monitor\n",
    "import numpy as np\n",
    "from qiskit.providers.aer.noise.errors import standard_errors as SE\n",
    "from qiskit.providers.aer.noise.device import models \n",
    "from qiskit import wrapper as w\n",
    "from qiskit import compile\n",
    "IBMQ.enable_account('a19585690b1c88c398330f76f4f88f2af27dff7b9ded2dec6c3a681fb3b4a5bdfe7a697952254e4c53c3ff59027d0bfb215f6d340a57fd1584f100fbf4e6074b')\n",
    "print(\"Available backends:\")\n",
    "IBMQ.backends()\n"
   ]
  },
  {
   "cell_type": "code",
   "execution_count": null,
   "metadata": {
    "collapsed": true
   },
   "outputs": [],
   "source": [
    "def get_PST(counts_noisy,counts_ideal):\n",
    "    \n",
    "    correct_total_ocurance_noisy=0\n",
    "    correct_total_ocurance_ideal=0\n",
    "    \n",
    "    for key, value in counts_ideal.items():\n",
    "        correct_total_ocurance_ideal += value \n",
    "        correct_total_ocurance_noisy += counts_noisy[key]\n",
    "    PST = correct_total_ocurance_noisy/correct_total_ocurance_ideal\n",
    "    return PST"
   ]
  },
  {
   "cell_type": "code",
   "execution_count": null,
   "metadata": {
    "collapsed": false
   },
   "outputs": [],
   "source": [
    "import json\n",
    "device = IBMQ.get_backend('ibmq_16_melbourne')\n",
    "properties = device.properties()\n",
    "Config = json.load(open(\"../Noise Simulation/Config.txt\")) ##### Use this Noise Config\n",
    "properties=properties.from_dict(Config)"
   ]
  },
  {
   "cell_type": "code",
   "execution_count": null,
   "metadata": {
    "collapsed": true
   },
   "outputs": [],
   "source": [
    "device = IBMQ.get_backend('ibmq_16_melbourne')\n",
    "coupling_map = device.configuration().coupling_map\n",
    "\n",
    "gate_times = [\n",
    "    ('u1', None, 0), ('u2', None, 100), ('u3', None, 200),\n",
    "    ('cx', [1, 0], 678), ('cx', [1, 2], 547), ('cx', [2, 3], 721),\n",
    "    ('cx', [4, 3], 733), ('cx', [4, 10], 721), ('cx', [5, 4], 800),\n",
    "    ('cx', [5, 6], 800), ('cx', [5, 9], 895), ('cx', [6, 8], 895),\n",
    "    ('cx', [7, 8], 640), ('cx', [9, 8], 895), ('cx', [9, 10], 800),\n",
    "    ('cx', [11, 10], 721), ('cx', [11, 3], 634), ('cx', [12, 2], 773),\n",
    "    ('cx', [13, 1], 2286), ('cx', [13, 12], 1504), ('cx', [], 800)\n",
    "]\n",
    "\n",
    "# Construct the noise model from backend properties\n",
    "# and custom gate times\n",
    "noise_model = noise.device.basic_device_noise_model(properties, gate_times=gate_times)"
   ]
  },
  {
   "cell_type": "code",
   "execution_count": null,
   "metadata": {
    "collapsed": true
   },
   "outputs": [],
   "source": [
    "# Read the input QASM circuit\n",
    "def read_qasm(filepath, verbo):\n",
    "    #TODO: check if the syntax works \n",
    "    circ = QuantumCircuit.from_qasm_file(filepath)\n",
    "    list_ops = circ.count_ops()\n",
    "    flag = list_ops.get(\"measure\")\n",
    "    # add measurement instructions at the end\n",
    "        \n",
    "    if flag is None:\n",
    "        circ.measure(circ.qregs[0], circ.cregs[0])\n",
    "        if verbo == 1:\n",
    "            print(\"measurement instructions not included!!! -- adding measurement\")\n",
    "\n",
    "    if verbo == 1:\n",
    "        print('Total number of ops: ', circ.size())\n",
    "        print('circuit depth: ', circ.depth())\n",
    "        print('number of qubits:', circ.width())\n",
    "        print('Ops:', circ.count_ops())\n",
    "    \n",
    "    return circ"
   ]
  },
  {
   "cell_type": "code",
   "execution_count": null,
   "metadata": {
    "collapsed": true
   },
   "outputs": [],
   "source": [
    "ghz8 = 'GHZ8_sabre.qasm'\n",
    "qaoa = 'QAOA1_sabre.qasm'\n",
    "bv9 = 'bv9_sabre.qasm'\n",
    "decode = 'decod24_v2_43_sabre.qasm'\n",
    "fredkin = 'fredkin_sabre.qasm'\n",
    "ising = 'ising_model_10_sabre.qasm'\n",
    "qft = 'qft_10_sabre.qasm'"
   ]
  },
  {
   "cell_type": "code",
   "execution_count": null,
   "metadata": {
    "collapsed": true
   },
   "outputs": [],
   "source": [
    "# Run an ideal simulation\n",
    "def ideal_simulation(filepath):\n",
    "    circ_ideal = read_qasm(filepath,0)\n",
    "    backend = Aer.get_backend('qasm_simulator')\n",
    "    qobj_ideal=compile(circ_ideal,shots=8192, backend=backend)\n",
    "    exp_out = backend.run(qobj_ideal)\n",
    "    counts_ideal = exp_out.result().get_counts()\n",
    "    #print('Counts on ideal simulator')\n",
    "    #print(counts_ideal)\n",
    "    return counts_ideal"
   ]
  },
  {
   "cell_type": "code",
   "execution_count": null,
   "metadata": {
    "collapsed": true
   },
   "outputs": [],
   "source": [
    "def run_simulation(workload):\n",
    "    if(workload==1):\n",
    "        circ = read_qasm(bv9,0)\n",
    "    elif(workload==2):\n",
    "        circ = read_qasm(ghz8,0) \n",
    "    elif(workload==3):\n",
    "        circ = read_qasm(fredkin,0) \n",
    "    elif(workload==4):\n",
    "        circ = read_qasm(decode,0)   \n",
    "    elif(workload==5):\n",
    "        circ = read_qasm(qaoa,0)        \n",
    "    basis_gates = noise_model.basis_gates\n",
    "    # Select the QasmSimulator from the Aer provider\n",
    "    simulator = Aer.get_backend('qasm_simulator')\n",
    "    if(workload == 1):\n",
    "        initial_layout = {(\"q\", 0): (\"q\", 3), \n",
    "                          (\"q\", 1): (\"q\", 2), \n",
    "                          (\"q\", 2): (\"q\", 10),\n",
    "                          (\"q\", 3): (\"q\", 11), \n",
    "                          (\"q\", 4): (\"q\", 5),\n",
    "                          (\"q\", 5): (\"q\", 9),\n",
    "                          (\"q\", 6): (\"q\", 8),\n",
    "                          (\"q\", 7): (\"q\", 6),\n",
    "                          (\"q\", 8): (\"q\", 7),\n",
    "                          (\"q\", 9): (\"q\", 4),\n",
    "                          (\"q\", 10): (\"q\", 0),\n",
    "                          (\"q\", 11): (\"q\", 13),\n",
    "                          (\"q\", 12): (\"q\", 1),\n",
    "                          (\"q\", 13): (\"q\", 12)\n",
    "                  #[3, 2, 10, 11, 5, 9, 8, 6, 7, 4, 0, 13, 1, 12]\n",
    "                         } \n",
    "    elif(workload == 2):\n",
    "        initial_layout = {(\"q\", 0): (\"q\", 1),\n",
    "                          (\"q\", 1): (\"q\", 2),\n",
    "                          (\"q\", 2): (\"q\", 3),\n",
    "                          (\"q\", 3): (\"q\", 4),\n",
    "                          (\"q\", 4): (\"q\", 5),\n",
    "                          (\"q\", 5): (\"q\", 6),\n",
    "                          (\"q\", 6): (\"q\", 8),\n",
    "                          (\"q\", 7): (\"q\", 9),\n",
    "                          (\"q\", 8): (\"q\", 10),\n",
    "                          (\"q\", 9): (\"q\", 13),\n",
    "                          (\"q\", 10): (\"q\", 11),\n",
    "                          (\"q\", 11): (\"q\", 0),\n",
    "                          (\"q\", 12): (\"q\", 12),\n",
    "                          (\"q\", 13): (\"q\", 7)}\n",
    "        # Execute noisy simulation and get counts\n",
    "    elif(workload == 3):\n",
    "        initial_layout = {(\"q\", 0): (\"q\", 10),\n",
    "                          (\"q\", 1): (\"q\", 3),\n",
    "                          (\"q\", 2): (\"q\", 11),\n",
    "                          (\"q\", 3): (\"q\", 12),\n",
    "                          (\"q\", 4): (\"q\", 0),\n",
    "                          (\"q\", 5): (\"q\", 6),\n",
    "                          (\"q\", 6): (\"q\", 4),\n",
    "                          (\"q\", 7): (\"q\", 7),\n",
    "                          (\"q\", 8): (\"q\", 9),\n",
    "                          (\"q\", 9): (\"q\", 8),\n",
    "                          (\"q\", 10): (\"q\", 2),\n",
    "                          (\"q\", 11): (\"q\", 13),\n",
    "                          (\"q\", 12): (\"q\", 5),\n",
    "                          (\"q\", 13): (\"q\", 1)}\n",
    "    elif(workload == 4):       \n",
    "        initial_layout = {(\"q\", 0): (\"q\", 2),\n",
    "                          (\"q\", 1): (\"q\", 1),\n",
    "                          (\"q\", 2): (\"q\", 12),\n",
    "                          (\"q\", 3): (\"q\", 13),\n",
    "                          (\"q\", 4): (\"q\", 9),\n",
    "                          (\"q\", 5): (\"q\", 0),\n",
    "                          (\"q\", 6): (\"q\", 7),\n",
    "                          (\"q\", 7): (\"q\", 10),\n",
    "                          (\"q\", 8): (\"q\", 8),\n",
    "                          (\"q\", 9): (\"q\", 5),\n",
    "                          (\"q\", 10): (\"q\", 3),\n",
    "                          (\"q\", 11): (\"q\", 6),\n",
    "                          (\"q\", 12): (\"q\", 11),\n",
    "                          (\"q\", 13): (\"q\", 4)}\n",
    "    elif(workload == 5):\n",
    "        initial_layout = {(\"q\", 0): (\"q\", 1),\n",
    "                          (\"q\", 1): (\"q\", 2),\n",
    "                          (\"q\", 2): (\"q\", 10),\n",
    "                          (\"q\", 3): (\"q\", 3),\n",
    "                          (\"q\", 4): (\"q\", 9),\n",
    "                          (\"q\", 5): (\"q\", 8),\n",
    "                          (\"q\", 6): (\"q\", 0),\n",
    "                          (\"q\", 7): (\"q\", 13),\n",
    "                          (\"q\", 8): (\"q\", 11),\n",
    "                          (\"q\", 9): (\"q\", 5),\n",
    "                          (\"q\", 10): (\"q\", 6),\n",
    "                          (\"q\", 11): (\"q\", 7),\n",
    "                          (\"q\", 12): (\"q\", 12),\n",
    "                          (\"q\", 13): (\"q\", 4)}\n",
    "        \n",
    "        \n",
    "    result_noise = execute(circ, simulator, shots = 8192,\n",
    "                       noise_model=noise_model,\n",
    "                       coupling_map=coupling_map,\n",
    "                       initial_layout = initial_layout,\n",
    "                       basis_gates=basis_gates).result()\n",
    "    counts_noise = result_noise.get_counts(circ)\n",
    "    # Execute on ideal simulator\n",
    "    if(workload==1):\n",
    "        counts_ideal = ideal_simulation(bv9)\n",
    "    elif(workload==2):\n",
    "        counts_ideal = ideal_simulation(ghz8)\n",
    "    elif(workload==3):\n",
    "        counts_ideal = ideal_simulation(fredkin) \n",
    "    elif(workload==4):\n",
    "        counts_ideal = ideal_simulation(decode)     \n",
    "    elif(workload==5):\n",
    "        counts_ideal = ideal_simulation(qaoa)  \n",
    "    pst = get_PST(counts_noise, counts_ideal)\n",
    "    print('Ideal Counts ', counts_ideal)\n",
    "    print('Noise Counts ', counts_noise)\n",
    "    print('PST ', pst)\n",
    "    #plot_histogram(counts_noise, title=\"Counts for 3-qubit GHZ state with depolarizing noise model\")"
   ]
  },
  {
   "cell_type": "code",
   "execution_count": null,
   "metadata": {
    "collapsed": false
   },
   "outputs": [],
   "source": [
    "run_simulation(5)"
   ]
  },
  {
   "cell_type": "code",
   "execution_count": null,
   "metadata": {
    "collapsed": true
   },
   "outputs": [],
   "source": []
  }
 ],
 "metadata": {
  "kernelspec": {
   "display_name": "Python 2",
   "language": "python",
   "name": "python2"
  },
  "language_info": {
   "codemirror_mode": {
    "name": "ipython",
    "version": 2
   },
   "file_extension": ".py",
   "mimetype": "text/x-python",
   "name": "python",
   "nbconvert_exporter": "python",
   "pygments_lexer": "ipython2",
   "version": "2.7.11"
  }
 },
 "nbformat": 4,
 "nbformat_minor": 2
}
